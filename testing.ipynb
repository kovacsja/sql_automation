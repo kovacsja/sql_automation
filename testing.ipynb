{
 "cells": [
  {
   "cell_type": "code",
   "execution_count": 15,
   "metadata": {},
   "outputs": [],
   "source": [
    "import os\n",
    "import pandas as pd\n",
    "import pyodbc\n",
    "from getpass import getpass"
   ]
  },
  {
   "cell_type": "code",
   "execution_count": 17,
   "metadata": {},
   "outputs": [
    {
     "name": "stdin",
     "output_type": "stream",
     "text": [
      "Password? ·········\n"
     ]
    }
   ],
   "source": [
    "SCRIPT_DIR: str = \"sql_to_excel/sripts\"\n",
    "\n",
    "driver: str = \"ODBC Driver 17 for SQL Server\"\n",
    "server: str = \"globalfr\"\n",
    "db: str = \"AdventureWorks2017\"\n",
    "me: str = \"SA\"\n",
    "passw: str = getpass(\"Password?\")"
   ]
  },
  {
   "cell_type": "code",
   "execution_count": 18,
   "metadata": {},
   "outputs": [],
   "source": [
    "conn = pyodbc.connect(\"Driver={ODBC Driver 17 for SQL Server};SERVER=globalfr;Database=AdventureWorks2017;UID=SA;PWD=\" + passw)"
   ]
  },
  {
   "cell_type": "code",
   "execution_count": 25,
   "metadata": {},
   "outputs": [],
   "source": [
    "with open(\"/home/honfi/Documents/Working_Union/sql_to_excel/sripts/empolyee.sql\") as f:\n",
    "    with pd.ExcelWriter(\"/home/honfi/temp/teszt_data.xlsx\") as e:\n",
    "        pd.read_sql(f.read().replace(\"\\n\", \" \"), conn).to_excel(excel_writer = e)"
   ]
  },
  {
   "cell_type": "code",
   "execution_count": 27,
   "metadata": {},
   "outputs": [],
   "source": [
    "df"
   ]
  },
  {
   "cell_type": "code",
   "execution_count": null,
   "metadata": {},
   "outputs": [],
   "source": []
  }
 ],
 "metadata": {
  "kernelspec": {
   "display_name": "Python 3",
   "language": "python",
   "name": "python3"
  },
  "language_info": {
   "codemirror_mode": {
    "name": "ipython",
    "version": 3
   },
   "file_extension": ".py",
   "mimetype": "text/x-python",
   "name": "python",
   "nbconvert_exporter": "python",
   "pygments_lexer": "ipython3",
   "version": "3.9.2"
  }
 },
 "nbformat": 4,
 "nbformat_minor": 4
}
